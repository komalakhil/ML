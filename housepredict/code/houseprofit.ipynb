{
 "cells": [
  {
   "cell_type": "code",
   "execution_count": 1,
   "id": "ebb91cac",
   "metadata": {},
   "outputs": [],
   "source": [
    "import numpy as np\n",
    "import pandas as pd\n",
    "import matplotlib.pyplot as plt\n"
   ]
  },
  {
   "cell_type": "code",
   "execution_count": 50,
   "id": "4bed6291",
   "metadata": {},
   "outputs": [],
   "source": [
    "with open('week_1-ex_1.txt') as f:\n",
    "    lines = f.readlines()\n",
    "train_x=[]\n",
    "train_y=[]\n",
    "test_x=[]\n",
    "test_y=[]\n",
    "c=0\n",
    "for i in lines:\n",
    "    s=i.split(',')\n",
    "    s[0]=float(s[0])\n",
    "    s[1]=s[1].replace('\\n','')\n",
    "    s[1]=float(s[1])\n",
    "    if c<97*0.8:\n",
    "        train_x.append(s[0])\n",
    "        train_y.append(s[1])\n",
    "    else:\n",
    "        test_x.append(s[0])\n",
    "        test_y.append(s[1])\n",
    "    c+=1"
   ]
  },
  {
   "cell_type": "code",
   "execution_count": 53,
   "id": "78da188f",
   "metadata": {},
   "outputs": [
    {
     "name": "stdout",
     "output_type": "stream",
     "text": [
      "78\n",
      "78\n",
      "19\n",
      "19\n"
     ]
    }
   ],
   "source": [
    "train_x=np.array(train_x)\n",
    "train_y=np.array(train_y)\n",
    "test_x=np.array(test_x)\n",
    "test_y=np.array(test_y)\n",
    "print(len(train_x))\n",
    "print(len(train_y))\n",
    "print(len(test_x))\n",
    "print(len(test_y))"
   ]
  },
  {
   "cell_type": "code",
   "execution_count": 54,
   "id": "913e57cd",
   "metadata": {},
   "outputs": [
    {
     "data": {
      "image/png": "[encoded data removed]",
      "text/plain": [
       "<Figure size 432x288 with 1 Axes>"
      ]
     },
     "metadata": {
      "needs_background": "light"
     },
     "output_type": "display_data"
    }
   ],
   "source": [
    "plt.scatter(train_x,train_y,marker='x',c='r')\n",
    "plt.title(\"Comparing x and y using graphs\")\n",
    "plt.xlabel('X')\n",
    "plt.ylabel('Y')\n",
    "plt.show()"
   ]
  },
  {
   "cell_type": "code",
   "execution_count": 55,
   "id": "1e06900f",
   "metadata": {},
   "outputs": [],
   "source": [
    "def compute_cost(x,y,w,b):\n",
    "    m=x.shape[0]\n",
    "    total_cost=0\n",
    "    for i in range(m):\n",
    "        f=w*x[i]+b\n",
    "        total_cost+=(f-y[i])**2\n",
    "    total_cost=(1/(2*m))*total_cost\n",
    "    return total_cost\n"
   ]
  },
  {
   "cell_type": "code",
   "execution_count": 56,
   "id": "d0ec7baf",
   "metadata": {},
   "outputs": [
    {
     "name": "stdout",
     "output_type": "stream",
     "text": [
      "Cost is : 75.25472275749166\n"
     ]
    }
   ],
   "source": [
    "initial_w = 2\n",
    "initial_b = 1\n",
    "\n",
    "cost = compute_cost(train_x, train_y, initial_w, initial_b)\n",
    "print(\"Cost is :\",cost)"
   ]
  },
  {
   "cell_type": "code",
   "execution_count": 57,
   "id": "7b448ef6",
   "metadata": {},
   "outputs": [],
   "source": [
    "def compute_gradient(x,y,w,b):\n",
    "    m=x.shape[0]\n",
    "    dj_dw=0\n",
    "    dj_db=0\n",
    "    for i in range(m):\n",
    "        f=w*x[i]+b\n",
    "        db=f-y[i]\n",
    "        dw=(f-y[i])*x[i]\n",
    "        dj_dw+=dw\n",
    "        dj_db+=db\n",
    "    dj_db=dj_db*(1/m)\n",
    "    dj_dw=dj_dw*(1/m)\n",
    "    return dj_dw,dj_db"
   ]
  },
  {
   "cell_type": "code",
   "execution_count": 58,
   "id": "038326ce",
   "metadata": {},
   "outputs": [
    {
     "name": "stdout",
     "output_type": "stream",
     "text": [
      "Gradient at initial w, b (zeros): -74.34834633757691 -6.451910384615381\n"
     ]
    }
   ],
   "source": [
    "initial_w = 0\n",
    "initial_b = 0\n",
    "\n",
    "tmp_dj_dw, tmp_dj_db = compute_gradient(train_x, train_y, initial_w, initial_b)\n",
    "print('Gradient at initial w, b (zeros):', tmp_dj_dw, tmp_dj_db)"
   ]
  },
  {
   "cell_type": "code",
   "execution_count": 59,
   "id": "3d494c09",
   "metadata": {},
   "outputs": [],
   "source": [
    "def gradient_descent(x, y, w, b, cost_function, gradient_function, alpha, num_iters): \n",
    "    m=x.shape[0]\n",
    "    J_history=[]\n",
    "    w_history=[]\n",
    "    for i in range(num_iters):\n",
    "        dj_dw,dj_db=compute_gradient(x,y,w,b)\n",
    "        w=w-alpha*dj_dw\n",
    "        b=b-alpha*dj_db\n",
    "        cost=cost_function(x,y,w,b)\n",
    "        J_history.append(cost)\n",
    "        w_history.append(w)\n",
    "        if i%200==0:\n",
    "            print(\"Cost for\",i,\"iteration is :\",cost)\n",
    "    return w,b,J_history,w_history"
   ]
  },
  {
   "cell_type": "code",
   "execution_count": 60,
   "id": "782aee1b",
   "metadata": {},
   "outputs": [
    {
     "name": "stdout",
     "output_type": "stream",
     "text": [
      "Cost for 0 iteration is : 6.4910649135495975\n",
      "Cost for 200 iteration is : 5.41509927579328\n",
      "Cost for 400 iteration is : 5.1047744899407945\n",
      "Cost for 600 iteration is : 4.960229948515017\n",
      "Cost for 800 iteration is : 4.89290331071974\n",
      "Cost for 1000 iteration is : 4.861543592032991\n",
      "Cost for 1200 iteration is : 4.846936714453542\n",
      "Cost for 1400 iteration is : 4.840133054167161\n"
     ]
    }
   ],
   "source": [
    "initial_w = 0.\n",
    "initial_b = 0.\n",
    "\n",
    "# some gradient descent settings\n",
    "iterations = 1500\n",
    "alpha = 0.01\n",
    "\n",
    "w,b,jlist,wlist = gradient_descent(train_x,train_y, initial_w, initial_b, \n",
    "                     compute_cost, compute_gradient, alpha, iterations)"
   ]
  },
  {
   "cell_type": "code",
   "execution_count": 61,
   "id": "f6947bd6",
   "metadata": {},
   "outputs": [],
   "source": [
    "m=train_x.shape[0]\n",
    "predicted=np.zeros(m)\n",
    "for i in range(m):\n",
    "    predicted[i]=w*train_x[i]+b"
   ]
  },
  {
   "cell_type": "code",
   "execution_count": 62,
   "id": "eb7e727d",
   "metadata": {},
   "outputs": [
    {
     "data": {
      "text/plain": [
       "<matplotlib.collections.PathCollection at 0x17ad7e2bf40>"
      ]
     },
     "execution_count": 62,
     "metadata": {},
     "output_type": "execute_result"
    },
    {
     "data": {
      "image/png": "[encoded data removed]",
      "text/plain": [
       "<Figure size 432x288 with 1 Axes>"
      ]
     },
     "metadata": {
      "needs_background": "light"
     },
     "output_type": "display_data"
    }
   ],
   "source": [
    "plt.plot(train_x,predicted,c='b')\n",
    "plt.scatter(train_x,train_y,marker='*',c='r')"
   ]
  }
 ],
 "metadata": {
  "kernelspec": {
   "display_name": "Python 3 (ipykernel)",
   "language": "python",
   "name": "python3"
  },
  "language_info": {
   "codemirror_mode": {
    "name": "ipython",
    "version": 3
   },
   "file_extension": ".py",
   "mimetype": "text/x-python",
   "name": "python",
   "nbconvert_exporter": "python",
   "pygments_lexer": "ipython3",
   "version": "3.9.12"
  }
 },
 "nbformat": 4,
 "nbformat_minor": 5
}
